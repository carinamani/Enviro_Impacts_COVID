{
 "cells": [
  {
   "cell_type": "code",
   "execution_count": 9,
   "metadata": {},
   "outputs": [],
   "source": [
    "import os\n",
    "import pandas as pd\n",
    "import matplotlib.pyplot as plt\n",
    "import plotly.express as px\n",
    "\n",
    "# Get the current working directory\n",
    "cd = os.path.dirname(os.getcwd())"
   ]
  },
  {
   "cell_type": "code",
   "execution_count": 10,
   "metadata": {},
   "outputs": [
    {
     "data": {
      "text/html": [
       "<div>\n",
       "<style scoped>\n",
       "    .dataframe tbody tr th:only-of-type {\n",
       "        vertical-align: middle;\n",
       "    }\n",
       "\n",
       "    .dataframe tbody tr th {\n",
       "        vertical-align: top;\n",
       "    }\n",
       "\n",
       "    .dataframe thead th {\n",
       "        text-align: right;\n",
       "    }\n",
       "</style>\n",
       "<table border=\"1\" class=\"dataframe\">\n",
       "  <thead>\n",
       "    <tr style=\"text-align: right;\">\n",
       "      <th></th>\n",
       "      <th>Year</th>\n",
       "      <th>int_tourist_arrivals_millions</th>\n",
       "      <th>domestic_aviation_CO2_emissions_Mt</th>\n",
       "      <th>international_aviation_CO2_emissions_Mt</th>\n",
       "      <th>total_aviation_CO2_emissions_Mt</th>\n",
       "      <th>fossil_fuel_emissions_GtCarbon</th>\n",
       "      <th>land_use_emissions_GtCarbon</th>\n",
       "      <th>total_emissions_GtCarbon</th>\n",
       "      <th>deforestation_emissions_GtCarbon</th>\n",
       "      <th>deforestation_HA</th>\n",
       "      <th>...</th>\n",
       "      <th>visits_to_US_national_parks</th>\n",
       "      <th>tonnes_fish_landed</th>\n",
       "      <th>passenger_vehicle_emissions_Gt_co2</th>\n",
       "      <th>exports_timber_products_USD</th>\n",
       "      <th>USA_WFH_share</th>\n",
       "      <th>total_municipal_waste_tonnes</th>\n",
       "      <th>outdoor_rec_participation_rate</th>\n",
       "      <th>millions_sales_garden_equipment</th>\n",
       "      <th>paid_fishing_license_holders</th>\n",
       "      <th>paid_hunting_license_holders</th>\n",
       "    </tr>\n",
       "  </thead>\n",
       "  <tbody>\n",
       "    <tr>\n",
       "      <th>0</th>\n",
       "      <td>1904</td>\n",
       "      <td>NaN</td>\n",
       "      <td>NaN</td>\n",
       "      <td>NaN</td>\n",
       "      <td>NaN</td>\n",
       "      <td>NaN</td>\n",
       "      <td>NaN</td>\n",
       "      <td>NaN</td>\n",
       "      <td>NaN</td>\n",
       "      <td>NaN</td>\n",
       "      <td>...</td>\n",
       "      <td>0.036850</td>\n",
       "      <td>NaN</td>\n",
       "      <td>NaN</td>\n",
       "      <td>NaN</td>\n",
       "      <td>NaN</td>\n",
       "      <td>NaN</td>\n",
       "      <td>NaN</td>\n",
       "      <td>NaN</td>\n",
       "      <td>NaN</td>\n",
       "      <td>NaN</td>\n",
       "    </tr>\n",
       "    <tr>\n",
       "      <th>1</th>\n",
       "      <td>1905</td>\n",
       "      <td>NaN</td>\n",
       "      <td>NaN</td>\n",
       "      <td>NaN</td>\n",
       "      <td>NaN</td>\n",
       "      <td>NaN</td>\n",
       "      <td>NaN</td>\n",
       "      <td>NaN</td>\n",
       "      <td>NaN</td>\n",
       "      <td>NaN</td>\n",
       "      <td>...</td>\n",
       "      <td>0.043037</td>\n",
       "      <td>NaN</td>\n",
       "      <td>NaN</td>\n",
       "      <td>NaN</td>\n",
       "      <td>NaN</td>\n",
       "      <td>NaN</td>\n",
       "      <td>NaN</td>\n",
       "      <td>NaN</td>\n",
       "      <td>NaN</td>\n",
       "      <td>NaN</td>\n",
       "    </tr>\n",
       "    <tr>\n",
       "      <th>2</th>\n",
       "      <td>1906</td>\n",
       "      <td>NaN</td>\n",
       "      <td>NaN</td>\n",
       "      <td>NaN</td>\n",
       "      <td>NaN</td>\n",
       "      <td>NaN</td>\n",
       "      <td>NaN</td>\n",
       "      <td>NaN</td>\n",
       "      <td>NaN</td>\n",
       "      <td>NaN</td>\n",
       "      <td>...</td>\n",
       "      <td>0.009334</td>\n",
       "      <td>NaN</td>\n",
       "      <td>NaN</td>\n",
       "      <td>NaN</td>\n",
       "      <td>NaN</td>\n",
       "      <td>NaN</td>\n",
       "      <td>NaN</td>\n",
       "      <td>NaN</td>\n",
       "      <td>NaN</td>\n",
       "      <td>NaN</td>\n",
       "    </tr>\n",
       "    <tr>\n",
       "      <th>3</th>\n",
       "      <td>1907</td>\n",
       "      <td>NaN</td>\n",
       "      <td>NaN</td>\n",
       "      <td>NaN</td>\n",
       "      <td>NaN</td>\n",
       "      <td>NaN</td>\n",
       "      <td>NaN</td>\n",
       "      <td>NaN</td>\n",
       "      <td>NaN</td>\n",
       "      <td>NaN</td>\n",
       "      <td>...</td>\n",
       "      <td>0.010056</td>\n",
       "      <td>NaN</td>\n",
       "      <td>NaN</td>\n",
       "      <td>NaN</td>\n",
       "      <td>NaN</td>\n",
       "      <td>NaN</td>\n",
       "      <td>NaN</td>\n",
       "      <td>NaN</td>\n",
       "      <td>NaN</td>\n",
       "      <td>NaN</td>\n",
       "    </tr>\n",
       "    <tr>\n",
       "      <th>4</th>\n",
       "      <td>1908</td>\n",
       "      <td>NaN</td>\n",
       "      <td>NaN</td>\n",
       "      <td>NaN</td>\n",
       "      <td>NaN</td>\n",
       "      <td>NaN</td>\n",
       "      <td>NaN</td>\n",
       "      <td>NaN</td>\n",
       "      <td>NaN</td>\n",
       "      <td>NaN</td>\n",
       "      <td>...</td>\n",
       "      <td>0.013058</td>\n",
       "      <td>NaN</td>\n",
       "      <td>NaN</td>\n",
       "      <td>NaN</td>\n",
       "      <td>NaN</td>\n",
       "      <td>NaN</td>\n",
       "      <td>NaN</td>\n",
       "      <td>NaN</td>\n",
       "      <td>NaN</td>\n",
       "      <td>NaN</td>\n",
       "    </tr>\n",
       "  </tbody>\n",
       "</table>\n",
       "<p>5 rows × 28 columns</p>\n",
       "</div>"
      ],
      "text/plain": [
       "   Year  int_tourist_arrivals_millions  domestic_aviation_CO2_emissions_Mt  \\\n",
       "0  1904                            NaN                                 NaN   \n",
       "1  1905                            NaN                                 NaN   \n",
       "2  1906                            NaN                                 NaN   \n",
       "3  1907                            NaN                                 NaN   \n",
       "4  1908                            NaN                                 NaN   \n",
       "\n",
       "   international_aviation_CO2_emissions_Mt  total_aviation_CO2_emissions_Mt  \\\n",
       "0                                      NaN                              NaN   \n",
       "1                                      NaN                              NaN   \n",
       "2                                      NaN                              NaN   \n",
       "3                                      NaN                              NaN   \n",
       "4                                      NaN                              NaN   \n",
       "\n",
       "   fossil_fuel_emissions_GtCarbon  land_use_emissions_GtCarbon  \\\n",
       "0                             NaN                          NaN   \n",
       "1                             NaN                          NaN   \n",
       "2                             NaN                          NaN   \n",
       "3                             NaN                          NaN   \n",
       "4                             NaN                          NaN   \n",
       "\n",
       "   total_emissions_GtCarbon  deforestation_emissions_GtCarbon  \\\n",
       "0                       NaN                               NaN   \n",
       "1                       NaN                               NaN   \n",
       "2                       NaN                               NaN   \n",
       "3                       NaN                               NaN   \n",
       "4                       NaN                               NaN   \n",
       "\n",
       "   deforestation_HA  ...  visits_to_US_national_parks  tonnes_fish_landed  \\\n",
       "0               NaN  ...                     0.036850                 NaN   \n",
       "1               NaN  ...                     0.043037                 NaN   \n",
       "2               NaN  ...                     0.009334                 NaN   \n",
       "3               NaN  ...                     0.010056                 NaN   \n",
       "4               NaN  ...                     0.013058                 NaN   \n",
       "\n",
       "   passenger_vehicle_emissions_Gt_co2  exports_timber_products_USD  \\\n",
       "0                                 NaN                          NaN   \n",
       "1                                 NaN                          NaN   \n",
       "2                                 NaN                          NaN   \n",
       "3                                 NaN                          NaN   \n",
       "4                                 NaN                          NaN   \n",
       "\n",
       "   USA_WFH_share  total_municipal_waste_tonnes  \\\n",
       "0            NaN                           NaN   \n",
       "1            NaN                           NaN   \n",
       "2            NaN                           NaN   \n",
       "3            NaN                           NaN   \n",
       "4            NaN                           NaN   \n",
       "\n",
       "   outdoor_rec_participation_rate  millions_sales_garden_equipment  \\\n",
       "0                             NaN                              NaN   \n",
       "1                             NaN                              NaN   \n",
       "2                             NaN                              NaN   \n",
       "3                             NaN                              NaN   \n",
       "4                             NaN                              NaN   \n",
       "\n",
       "   paid_fishing_license_holders  paid_hunting_license_holders  \n",
       "0                           NaN                           NaN  \n",
       "1                           NaN                           NaN  \n",
       "2                           NaN                           NaN  \n",
       "3                           NaN                           NaN  \n",
       "4                           NaN                           NaN  \n",
       "\n",
       "[5 rows x 28 columns]"
      ]
     },
     "execution_count": 10,
     "metadata": {},
     "output_type": "execute_result"
    }
   ],
   "source": [
    "# Load data \n",
    "normalized_impact = pd.read_csv(f\"{cd}/DATA/CLEAN/merged_data_normalized.csv\", index_col=False)\n",
    "normalized_impact = normalized_impact.drop(columns=['Unnamed: 0'])\n",
    "\n",
    "normalized_impact.head()"
   ]
  },
  {
   "cell_type": "code",
   "execution_count": 11,
   "metadata": {},
   "outputs": [
    {
     "data": {
      "text/html": [
       "<div>\n",
       "<style scoped>\n",
       "    .dataframe tbody tr th:only-of-type {\n",
       "        vertical-align: middle;\n",
       "    }\n",
       "\n",
       "    .dataframe tbody tr th {\n",
       "        vertical-align: top;\n",
       "    }\n",
       "\n",
       "    .dataframe thead th {\n",
       "        text-align: right;\n",
       "    }\n",
       "</style>\n",
       "<table border=\"1\" class=\"dataframe\">\n",
       "  <thead>\n",
       "    <tr style=\"text-align: right;\">\n",
       "      <th></th>\n",
       "      <th>Year</th>\n",
       "      <th>int_tourist_arrivals_millions</th>\n",
       "      <th>domestic_aviation_CO2_emissions_Mt</th>\n",
       "      <th>international_aviation_CO2_emissions_Mt</th>\n",
       "      <th>total_aviation_CO2_emissions_Mt</th>\n",
       "      <th>fossil_fuel_emissions_GtCarbon</th>\n",
       "      <th>land_use_emissions_GtCarbon</th>\n",
       "      <th>total_emissions_GtCarbon</th>\n",
       "      <th>deforestation_emissions_GtCarbon</th>\n",
       "      <th>deforestation_HA</th>\n",
       "      <th>...</th>\n",
       "      <th>visits_to_US_national_parks</th>\n",
       "      <th>tonnes_fish_landed</th>\n",
       "      <th>passenger_vehicle_emissions_Gt_co2</th>\n",
       "      <th>exports_timber_products_USD</th>\n",
       "      <th>USA_WFH_share</th>\n",
       "      <th>total_municipal_waste_tonnes</th>\n",
       "      <th>outdoor_rec_participation_rate</th>\n",
       "      <th>millions_sales_garden_equipment</th>\n",
       "      <th>paid_fishing_license_holders</th>\n",
       "      <th>paid_hunting_license_holders</th>\n",
       "    </tr>\n",
       "  </thead>\n",
       "  <tbody>\n",
       "    <tr>\n",
       "      <th>106</th>\n",
       "      <td>2010</td>\n",
       "      <td>66.416382</td>\n",
       "      <td>71.371247</td>\n",
       "      <td>73.630142</td>\n",
       "      <td>72.750253</td>\n",
       "      <td>89.919641</td>\n",
       "      <td>112.615492</td>\n",
       "      <td>92.425656</td>\n",
       "      <td>104.723900</td>\n",
       "      <td>76.748549</td>\n",
       "      <td>...</td>\n",
       "      <td>85.889922</td>\n",
       "      <td>94.447134</td>\n",
       "      <td>86.980609</td>\n",
       "      <td>NaN</td>\n",
       "      <td>74.884103</td>\n",
       "      <td>91.790694</td>\n",
       "      <td>95.660750</td>\n",
       "      <td>75.642946</td>\n",
       "      <td>95.740643</td>\n",
       "      <td>92.944229</td>\n",
       "    </tr>\n",
       "    <tr>\n",
       "      <th>107</th>\n",
       "      <td>2011</td>\n",
       "      <td>69.283276</td>\n",
       "      <td>73.328049</td>\n",
       "      <td>75.820650</td>\n",
       "      <td>74.849727</td>\n",
       "      <td>92.970773</td>\n",
       "      <td>113.496124</td>\n",
       "      <td>95.237127</td>\n",
       "      <td>104.668070</td>\n",
       "      <td>72.718896</td>\n",
       "      <td>...</td>\n",
       "      <td>85.167958</td>\n",
       "      <td>99.197684</td>\n",
       "      <td>86.703601</td>\n",
       "      <td>NaN</td>\n",
       "      <td>63.821709</td>\n",
       "      <td>92.152751</td>\n",
       "      <td>97.435897</td>\n",
       "      <td>79.933589</td>\n",
       "      <td>95.761797</td>\n",
       "      <td>96.331164</td>\n",
       "    </tr>\n",
       "    <tr>\n",
       "      <th>108</th>\n",
       "      <td>2012</td>\n",
       "      <td>72.354949</td>\n",
       "      <td>74.777073</td>\n",
       "      <td>76.059299</td>\n",
       "      <td>75.559844</td>\n",
       "      <td>94.317915</td>\n",
       "      <td>116.262612</td>\n",
       "      <td>96.740990</td>\n",
       "      <td>104.851865</td>\n",
       "      <td>97.344706</td>\n",
       "      <td>...</td>\n",
       "      <td>86.336285</td>\n",
       "      <td>96.121595</td>\n",
       "      <td>87.811634</td>\n",
       "      <td>87.439648</td>\n",
       "      <td>80.202748</td>\n",
       "      <td>91.618632</td>\n",
       "      <td>97.435897</td>\n",
       "      <td>85.415717</td>\n",
       "      <td>98.886773</td>\n",
       "      <td>96.241025</td>\n",
       "    </tr>\n",
       "    <tr>\n",
       "      <th>109</th>\n",
       "      <td>2013</td>\n",
       "      <td>75.699659</td>\n",
       "      <td>77.093035</td>\n",
       "      <td>77.483287</td>\n",
       "      <td>77.331275</td>\n",
       "      <td>95.119786</td>\n",
       "      <td>105.682802</td>\n",
       "      <td>96.286126</td>\n",
       "      <td>103.239008</td>\n",
       "      <td>85.393718</td>\n",
       "      <td>...</td>\n",
       "      <td>83.547179</td>\n",
       "      <td>97.384327</td>\n",
       "      <td>90.581717</td>\n",
       "      <td>95.314791</td>\n",
       "      <td>75.419611</td>\n",
       "      <td>91.697477</td>\n",
       "      <td>96.844181</td>\n",
       "      <td>90.830566</td>\n",
       "      <td>94.246586</td>\n",
       "      <td>94.123314</td>\n",
       "    </tr>\n",
       "    <tr>\n",
       "      <th>110</th>\n",
       "      <td>2014</td>\n",
       "      <td>78.566553</td>\n",
       "      <td>79.681462</td>\n",
       "      <td>79.961437</td>\n",
       "      <td>79.852381</td>\n",
       "      <td>95.750799</td>\n",
       "      <td>113.415366</td>\n",
       "      <td>97.701273</td>\n",
       "      <td>104.017965</td>\n",
       "      <td>98.173663</td>\n",
       "      <td>...</td>\n",
       "      <td>89.400069</td>\n",
       "      <td>97.947874</td>\n",
       "      <td>91.689751</td>\n",
       "      <td>101.981683</td>\n",
       "      <td>89.684248</td>\n",
       "      <td>92.357665</td>\n",
       "      <td>95.266272</td>\n",
       "      <td>94.144584</td>\n",
       "      <td>94.183673</td>\n",
       "      <td>93.903074</td>\n",
       "    </tr>\n",
       "  </tbody>\n",
       "</table>\n",
       "<p>5 rows × 28 columns</p>\n",
       "</div>"
      ],
      "text/plain": [
       "     Year  int_tourist_arrivals_millions  domestic_aviation_CO2_emissions_Mt  \\\n",
       "106  2010                      66.416382                           71.371247   \n",
       "107  2011                      69.283276                           73.328049   \n",
       "108  2012                      72.354949                           74.777073   \n",
       "109  2013                      75.699659                           77.093035   \n",
       "110  2014                      78.566553                           79.681462   \n",
       "\n",
       "     international_aviation_CO2_emissions_Mt  total_aviation_CO2_emissions_Mt  \\\n",
       "106                                73.630142                        72.750253   \n",
       "107                                75.820650                        74.849727   \n",
       "108                                76.059299                        75.559844   \n",
       "109                                77.483287                        77.331275   \n",
       "110                                79.961437                        79.852381   \n",
       "\n",
       "     fossil_fuel_emissions_GtCarbon  land_use_emissions_GtCarbon  \\\n",
       "106                       89.919641                   112.615492   \n",
       "107                       92.970773                   113.496124   \n",
       "108                       94.317915                   116.262612   \n",
       "109                       95.119786                   105.682802   \n",
       "110                       95.750799                   113.415366   \n",
       "\n",
       "     total_emissions_GtCarbon  deforestation_emissions_GtCarbon  \\\n",
       "106                 92.425656                        104.723900   \n",
       "107                 95.237127                        104.668070   \n",
       "108                 96.740990                        104.851865   \n",
       "109                 96.286126                        103.239008   \n",
       "110                 97.701273                        104.017965   \n",
       "\n",
       "     deforestation_HA  ...  visits_to_US_national_parks  tonnes_fish_landed  \\\n",
       "106         76.748549  ...                    85.889922           94.447134   \n",
       "107         72.718896  ...                    85.167958           99.197684   \n",
       "108         97.344706  ...                    86.336285           96.121595   \n",
       "109         85.393718  ...                    83.547179           97.384327   \n",
       "110         98.173663  ...                    89.400069           97.947874   \n",
       "\n",
       "     passenger_vehicle_emissions_Gt_co2  exports_timber_products_USD  \\\n",
       "106                           86.980609                          NaN   \n",
       "107                           86.703601                          NaN   \n",
       "108                           87.811634                    87.439648   \n",
       "109                           90.581717                    95.314791   \n",
       "110                           91.689751                   101.981683   \n",
       "\n",
       "     USA_WFH_share  total_municipal_waste_tonnes  \\\n",
       "106      74.884103                     91.790694   \n",
       "107      63.821709                     92.152751   \n",
       "108      80.202748                     91.618632   \n",
       "109      75.419611                     91.697477   \n",
       "110      89.684248                     92.357665   \n",
       "\n",
       "     outdoor_rec_participation_rate  millions_sales_garden_equipment  \\\n",
       "106                       95.660750                        75.642946   \n",
       "107                       97.435897                        79.933589   \n",
       "108                       97.435897                        85.415717   \n",
       "109                       96.844181                        90.830566   \n",
       "110                       95.266272                        94.144584   \n",
       "\n",
       "     paid_fishing_license_holders  paid_hunting_license_holders  \n",
       "106                     95.740643                     92.944229  \n",
       "107                     95.761797                     96.331164  \n",
       "108                     98.886773                     96.241025  \n",
       "109                     94.246586                     94.123314  \n",
       "110                     94.183673                     93.903074  \n",
       "\n",
       "[5 rows x 28 columns]"
      ]
     },
     "execution_count": 11,
     "metadata": {},
     "output_type": "execute_result"
    }
   ],
   "source": [
    "#### SELECT YEARS\n",
    "normalized_impact_filtered = normalized_impact[(normalized_impact['Year'] >= 2010)]\n",
    "\n",
    "normalized_impact_filtered.head()"
   ]
  },
  {
   "cell_type": "code",
   "execution_count": 12,
   "metadata": {},
   "outputs": [
    {
     "data": {
      "application/vnd.plotly.v1+json": {
       "config": {
        "plotlyServerURL": "https://plot.ly"
       },
       "data": [
        {
         "hovertemplate": "Impact=int_tourist_arrivals_millions<br>Year=%{x}<br>Impact Value=%{y}<extra></extra>",
         "legendgroup": "int_tourist_arrivals_millions",
         "line": {
          "color": "#636efa",
          "dash": "solid"
         },
         "marker": {
          "symbol": "circle"
         },
         "mode": "lines",
         "name": "int_tourist_arrivals_millions",
         "orientation": "v",
         "showlegend": true,
         "type": "scatter",
         "x": [
          2010,
          2011,
          2012,
          2013,
          2014,
          2015,
          2016,
          2017,
          2018,
          2019,
          2020,
          2021,
          2022,
          2023,
          2024
         ],
         "xaxis": "x",
         "y": [
          66.41638225255973,
          69.28327645051195,
          72.35494880546075,
          75.69965870307168,
          78.56655290102388,
          82.97610921501706,
          85.01023890784984,
          91.92491467576792,
          99.67235494880546,
          100,
          38.30034129692833,
          43.72696245733788,
          77.52218430034131,
          104.34129692832764,
          null
         ],
         "yaxis": "y"
        },
        {
         "hovertemplate": "Impact=domestic_aviation_CO2_emissions_Mt<br>Year=%{x}<br>Impact Value=%{y}<extra></extra>",
         "legendgroup": "domestic_aviation_CO2_emissions_Mt",
         "line": {
          "color": "#EF553B",
          "dash": "solid"
         },
         "marker": {
          "symbol": "circle"
         },
         "mode": "lines",
         "name": "domestic_aviation_CO2_emissions_Mt",
         "orientation": "v",
         "showlegend": true,
         "type": "scatter",
         "x": [
          2010,
          2011,
          2012,
          2013,
          2014,
          2015,
          2016,
          2017,
          2018,
          2019,
          2020,
          2021,
          2022,
          2023,
          2024
         ],
         "xaxis": "x",
         "y": [
          71.37124739918754,
          73.32804914297037,
          74.7770732190627,
          77.09303477657782,
          79.68146239968294,
          83.92945605865451,
          88.22451203804617,
          94.26582780144656,
          97.94164272267908,
          100,
          69.30298226493609,
          79.54275240265531,
          86.13147726146835,
          null,
          null
         ],
         "yaxis": "y"
        },
        {
         "hovertemplate": "Impact=international_aviation_CO2_emissions_Mt<br>Year=%{x}<br>Impact Value=%{y}<extra></extra>",
         "legendgroup": "international_aviation_CO2_emissions_Mt",
         "line": {
          "color": "#00cc96",
          "dash": "solid"
         },
         "marker": {
          "symbol": "circle"
         },
         "mode": "lines",
         "name": "international_aviation_CO2_emissions_Mt",
         "orientation": "v",
         "showlegend": true,
         "type": "scatter",
         "x": [
          2010,
          2011,
          2012,
          2013,
          2014,
          2015,
          2016,
          2017,
          2018,
          2019,
          2020,
          2021,
          2022,
          2023,
          2024
         ],
         "xaxis": "x",
         "y": [
          73.6301423988115,
          75.82065019834685,
          76.05929859497732,
          77.48328670997108,
          79.96143694782924,
          84.54949188437406,
          88.36154441863037,
          94.0748818611414,
          98.38793798302594,
          100,
          47.818184691732654,
          54.34861631343543,
          69.02154157381506,
          null,
          null
         ],
         "yaxis": "y"
        },
        {
         "hovertemplate": "Impact=total_aviation_CO2_emissions_Mt<br>Year=%{x}<br>Impact Value=%{y}<extra></extra>",
         "legendgroup": "total_aviation_CO2_emissions_Mt",
         "line": {
          "color": "#ab63fa",
          "dash": "solid"
         },
         "marker": {
          "symbol": "circle"
         },
         "mode": "lines",
         "name": "total_aviation_CO2_emissions_Mt",
         "orientation": "v",
         "showlegend": true,
         "type": "scatter",
         "x": [
          2010,
          2011,
          2012,
          2013,
          2014,
          2015,
          2016,
          2017,
          2018,
          2019,
          2020,
          2021,
          2022,
          2023,
          2024
         ],
         "xaxis": "x",
         "y": [
          72.75025326836798,
          74.84972743499445,
          75.55984369723575,
          77.33127502532683,
          79.85238072265908,
          84.30797433547204,
          88.30816730184765,
          94.14925949153358,
          98.21409619373824,
          100,
          56.18698441796517,
          64.1622847218872,
          75.68623667325969,
          null,
          null
         ],
         "yaxis": "y"
        },
        {
         "hovertemplate": "Impact=fossil_fuel_emissions_GtCarbon<br>Year=%{x}<br>Impact Value=%{y}<extra></extra>",
         "legendgroup": "fossil_fuel_emissions_GtCarbon",
         "line": {
          "color": "#FFA15A",
          "dash": "solid"
         },
         "marker": {
          "symbol": "circle"
         },
         "mode": "lines",
         "name": "fossil_fuel_emissions_GtCarbon",
         "orientation": "v",
         "showlegend": true,
         "type": "scatter",
         "x": [
          2010,
          2011,
          2012,
          2013,
          2014,
          2015,
          2016,
          2017,
          2018,
          2019,
          2020,
          2021,
          2022,
          2023,
          2024
         ],
         "xaxis": "x",
         "y": [
          89.91964097062099,
          92.97077328835324,
          94.31791538216692,
          95.11978608369384,
          95.75079871395693,
          95.74275317177892,
          95.73414328519776,
          97.26066632026522,
          99.26253370052788,
          100,
          94.51307020779596,
          99.39643541024866,
          100.29611511370696,
          102.0287884055216,
          null
         ],
         "yaxis": "y"
        },
        {
         "hovertemplate": "Impact=land_use_emissions_GtCarbon<br>Year=%{x}<br>Impact Value=%{y}<extra></extra>",
         "legendgroup": "land_use_emissions_GtCarbon",
         "line": {
          "color": "#19d3f3",
          "dash": "solid"
         },
         "marker": {
          "symbol": "circle"
         },
         "mode": "lines",
         "name": "land_use_emissions_GtCarbon",
         "orientation": "v",
         "showlegend": true,
         "type": "scatter",
         "x": [
          2010,
          2011,
          2012,
          2013,
          2014,
          2015,
          2016,
          2017,
          2018,
          2019,
          2020,
          2021,
          2022,
          2023,
          2024
         ],
         "xaxis": "x",
         "y": [
          112.6154916930992,
          113.49612415456652,
          116.26261177258164,
          105.68280229734854,
          113.41536630591258,
          122.46316751409252,
          100.03214374897034,
          99.29257187182851,
          93.20571468039576,
          100,
          93.42407965274153,
          93.99815107030716,
          93.74525149162962,
          78.84489711343822,
          null
         ],
         "yaxis": "y"
        },
        {
         "hovertemplate": "Impact=total_emissions_GtCarbon<br>Year=%{x}<br>Impact Value=%{y}<extra></extra>",
         "legendgroup": "total_emissions_GtCarbon",
         "line": {
          "color": "#FF6692",
          "dash": "solid"
         },
         "marker": {
          "symbol": "circle"
         },
         "mode": "lines",
         "name": "total_emissions_GtCarbon",
         "orientation": "v",
         "showlegend": true,
         "type": "scatter",
         "x": [
          2010,
          2011,
          2012,
          2013,
          2014,
          2015,
          2016,
          2017,
          2018,
          2019,
          2020,
          2021,
          2022,
          2023,
          2024
         ],
         "xaxis": "x",
         "y": [
          92.42565587658326,
          95.23712742725724,
          96.74098984338238,
          96.28612597581882,
          97.7012728439694,
          98.69314958802808,
          96.2087169577052,
          97.48502387627796,
          98.59375600487031,
          100,
          94.39282679428445,
          98.80037134603106,
          99.5727863394481,
          99.4688853700902,
          null
         ],
         "yaxis": "y"
        },
        {
         "hovertemplate": "Impact=deforestation_emissions_GtCarbon<br>Year=%{x}<br>Impact Value=%{y}<extra></extra>",
         "legendgroup": "deforestation_emissions_GtCarbon",
         "line": {
          "color": "#B6E880",
          "dash": "solid"
         },
         "marker": {
          "symbol": "circle"
         },
         "mode": "lines",
         "name": "deforestation_emissions_GtCarbon",
         "orientation": "v",
         "showlegend": true,
         "type": "scatter",
         "x": [
          2010,
          2011,
          2012,
          2013,
          2014,
          2015,
          2016,
          2017,
          2018,
          2019,
          2020,
          2021,
          2022,
          2023,
          2024
         ],
         "xaxis": "x",
         "y": [
          104.72390006664097,
          104.6680703843916,
          104.8518652430984,
          103.2390077558951,
          104.0179647510884,
          104.31643200476412,
          102.68992726189973,
          102.41343740695052,
          99.07730372765056,
          100,
          100.8764373927714,
          101.12953195230176,
          100.9460915677682,
          null,
          null
         ],
         "yaxis": "y"
        },
        {
         "hovertemplate": "Impact=deforestation_HA<br>Year=%{x}<br>Impact Value=%{y}<extra></extra>",
         "legendgroup": "deforestation_HA",
         "line": {
          "color": "#FF97FF",
          "dash": "solid"
         },
         "marker": {
          "symbol": "circle"
         },
         "mode": "lines",
         "name": "deforestation_HA",
         "orientation": "v",
         "showlegend": true,
         "type": "scatter",
         "x": [
          2010,
          2011,
          2012,
          2013,
          2014,
          2015,
          2016,
          2017,
          2018,
          2019,
          2020,
          2021,
          2022,
          2023,
          2024
         ],
         "xaxis": "x",
         "y": [
          76.7485489238317,
          72.71889619028806,
          97.34470573245191,
          85.39371758823717,
          98.17366253553875,
          81.1704890375131,
          122.75390005759444,
          121.52631183154658,
          102.38111788180142,
          100,
          106.74323731901605,
          104.54886142483252,
          94.39396038093216,
          116.88515387492204,
          null
         ],
         "yaxis": "y"
        },
        {
         "hovertemplate": "Impact=deforestation_emissions_Mg_co2e<br>Year=%{x}<br>Impact Value=%{y}<extra></extra>",
         "legendgroup": "deforestation_emissions_Mg_co2e",
         "line": {
          "color": "#FECB52",
          "dash": "solid"
         },
         "marker": {
          "symbol": "circle"
         },
         "mode": "lines",
         "name": "deforestation_emissions_Mg_co2e",
         "orientation": "v",
         "showlegend": true,
         "type": "scatter",
         "x": [
          2010,
          2011,
          2012,
          2013,
          2014,
          2015,
          2016,
          2017,
          2018,
          2019,
          2020,
          2021,
          2022,
          2023,
          2024
         ],
         "xaxis": "x",
         "y": [
          77.49356300909804,
          72.9759174536997,
          95.34309335323648,
          78.59392837616878,
          98.90175009974014,
          86.29530983705234,
          133.03676746692372,
          126.20694880240588,
          104.48414775300752,
          100,
          102.61780843552135,
          103.59905520268622,
          101.13992426257288,
          129.718779709125,
          null
         ],
         "yaxis": "y"
        },
        {
         "hovertemplate": "Impact=shipping_emissions_all_types_Mt_co2<br>Year=%{x}<br>Impact Value=%{y}<extra></extra>",
         "legendgroup": "shipping_emissions_all_types_Mt_co2",
         "line": {
          "color": "#636efa",
          "dash": "solid"
         },
         "marker": {
          "symbol": "circle"
         },
         "mode": "lines",
         "name": "shipping_emissions_all_types_Mt_co2",
         "orientation": "v",
         "showlegend": true,
         "type": "scatter",
         "x": [
          2010,
          2011,
          2012,
          2013,
          2014,
          2015,
          2016,
          2017,
          2018,
          2019,
          2020,
          2021,
          2022,
          2023,
          2024
         ],
         "xaxis": "x",
         "y": [
          null,
          null,
          87.02307929416659,
          86.70583970534517,
          87.1838442136104,
          90.26057293457497,
          93.48963965341284,
          96.48785684988027,
          98.11205297856,
          100,
          99.14024541883968,
          103.82056609457533,
          105.14659899693572,
          null,
          null
         ],
         "yaxis": "y"
        },
        {
         "hovertemplate": "Impact=shipping_volume_million_metric_tons<br>Year=%{x}<br>Impact Value=%{y}<extra></extra>",
         "legendgroup": "shipping_volume_million_metric_tons",
         "line": {
          "color": "#EF553B",
          "dash": "solid"
         },
         "marker": {
          "symbol": "circle"
         },
         "mode": "lines",
         "name": "shipping_volume_million_metric_tons",
         "orientation": "v",
         "showlegend": true,
         "type": "scatter",
         "x": [
          2010,
          2011,
          2012,
          2013,
          2014,
          2015,
          2016,
          2017,
          2018,
          2019,
          2020,
          2021,
          2022,
          2023,
          2024
         ],
         "xaxis": "x",
         "y": [
          75.65807327001357,
          78.71551334237901,
          82.45137946630484,
          85.78018995929443,
          87.92401628222524,
          90.1402080506558,
          93.19764812302124,
          96.6711895070104,
          99.65626413387608,
          100,
          96.1917684305744,
          99.27634554500229,
          98.89909543193124,
          101.19355444595206,
          null
         ],
         "yaxis": "y"
        },
        {
         "hovertemplate": "Impact=cars_sold_EV<br>Year=%{x}<br>Impact Value=%{y}<extra></extra>",
         "legendgroup": "cars_sold_EV",
         "line": {
          "color": "#00cc96",
          "dash": "solid"
         },
         "marker": {
          "symbol": "circle"
         },
         "mode": "lines",
         "name": "cars_sold_EV",
         "orientation": "v",
         "showlegend": true,
         "type": "scatter",
         "x": [
          2010,
          2011,
          2012,
          2013,
          2014,
          2015,
          2016,
          2017,
          2018,
          2019,
          2020,
          2021,
          2022,
          2023,
          2024
         ],
         "xaxis": "x",
         "y": [
          0.3581730769230769,
          2.355769230769231,
          5.769230769230769,
          9.663461538461538,
          15.865384615384617,
          26.442307692307693,
          36.53846153846153,
          56.730769230769226,
          99.03846153846156,
          100,
          143.26923076923077,
          317.30769230769226,
          490.3846153846154,
          663.4615384615385,
          null
         ],
         "yaxis": "y"
        },
        {
         "hovertemplate": "Impact=cars_sold_non_EV<br>Year=%{x}<br>Impact Value=%{y}<extra></extra>",
         "legendgroup": "cars_sold_non_EV",
         "line": {
          "color": "#ab63fa",
          "dash": "solid"
         },
         "marker": {
          "symbol": "circle"
         },
         "mode": "lines",
         "name": "cars_sold_non_EV",
         "orientation": "v",
         "showlegend": true,
         "type": "scatter",
         "x": [
          2010,
          2011,
          2012,
          2013,
          2014,
          2015,
          2016,
          2017,
          2018,
          2019,
          2020,
          2021,
          2022,
          2023,
          2024
         ],
         "xaxis": "x",
         "y": [
          86.90941991786447,
          92.4150616016427,
          96.09856262833677,
          95.28162217659136,
          102.87193275154006,
          103.095931724846,
          107.39790811088297,
          106.65517197125256,
          107.51197381930184,
          100,
          87.23354722792608,
          86.7008521560575,
          80.41214579055442,
          80.68104209445586,
          null
         ],
         "yaxis": "y"
        },
        {
         "hovertemplate": "Impact=cars_sold_total<br>Year=%{x}<br>Impact Value=%{y}<extra></extra>",
         "legendgroup": "cars_sold_total",
         "line": {
          "color": "#FFA15A",
          "dash": "solid"
         },
         "marker": {
          "symbol": "circle"
         },
         "mode": "lines",
         "name": "cars_sold_total",
         "orientation": "v",
         "showlegend": true,
         "type": "scatter",
         "x": [
          2010,
          2011,
          2012,
          2013,
          2014,
          2015,
          2016,
          2017,
          2018,
          2019,
          2020,
          2021,
          2022,
          2023,
          2024
         ],
         "xaxis": "x",
         "y": [
          84.6590875,
          90.07352,
          93.75,
          93.05555,
          100.6097625,
          101.1029375,
          105.5555625,
          105.3571375,
          107.2916625,
          100,
          88.690475,
          92.69663,
          91.07143,
          95.833335,
          null
         ],
         "yaxis": "y"
        },
        {
         "hovertemplate": "Impact=cement_production_thousand_metric_tons<br>Year=%{x}<br>Impact Value=%{y}<extra></extra>",
         "legendgroup": "cement_production_thousand_metric_tons",
         "line": {
          "color": "#19d3f3",
          "dash": "solid"
         },
         "marker": {
          "symbol": "circle"
         },
         "mode": "lines",
         "name": "cement_production_thousand_metric_tons",
         "orientation": "v",
         "showlegend": true,
         "type": "scatter",
         "x": [
          2010,
          2011,
          2012,
          2013,
          2014,
          2015,
          2016,
          2017,
          2018,
          2019,
          2020,
          2021,
          2022,
          2023,
          2024
         ],
         "xaxis": "x",
         "y": [
          78.0952380952381,
          86.42857142857143,
          90.95238095238096,
          95.95238095238096,
          98.8095238095238,
          96.66666666666669,
          98.57142857142858,
          98.09523809523807,
          96.66666666666669,
          100,
          100.47619047619048,
          103.57142857142858,
          98.57142857142858,
          null,
          null
         ],
         "yaxis": "y"
        },
        {
         "hovertemplate": "Impact=percent_reporting_happiness<br>Year=%{x}<br>Impact Value=%{y}<extra></extra>",
         "legendgroup": "percent_reporting_happiness",
         "line": {
          "color": "#FF6692",
          "dash": "solid"
         },
         "marker": {
          "symbol": "circle"
         },
         "mode": "lines",
         "name": "percent_reporting_happiness",
         "orientation": "v",
         "showlegend": true,
         "type": "scatter",
         "x": [
          2010,
          2011,
          2012,
          2013,
          2014,
          2015,
          2016,
          2017,
          2018,
          2019,
          2020,
          2021,
          2022,
          2023,
          2024
         ],
         "xaxis": "x",
         "y": [
          null,
          120.3125,
          null,
          120.3125,
          null,
          null,
          null,
          95.3125,
          109.375,
          100,
          98.4375,
          104.6875,
          null,
          114.0625,
          110.9375
         ],
         "yaxis": "y"
        },
        {
         "hovertemplate": "Impact=visits_to_US_national_parks<br>Year=%{x}<br>Impact Value=%{y}<extra></extra>",
         "legendgroup": "visits_to_US_national_parks",
         "line": {
          "color": "#B6E880",
          "dash": "solid"
         },
         "marker": {
          "symbol": "circle"
         },
         "mode": "lines",
         "name": "visits_to_US_national_parks",
         "orientation": "v",
         "showlegend": true,
         "type": "scatter",
         "x": [
          2010,
          2011,
          2012,
          2013,
          2014,
          2015,
          2016,
          2017,
          2018,
          2019,
          2020,
          2021,
          2022,
          2023,
          2024
         ],
         "xaxis": "x",
         "y": [
          85.88992212331064,
          85.16795784338504,
          86.33628512145822,
          83.54717871583793,
          89.40006858094733,
          93.8111943565221,
          101.05492967366033,
          101.0277744104338,
          97.15898813672108,
          100,
          72.38238252575513,
          90.717657903033,
          95.25806627846264,
          99.38385630440328,
          null
         ],
         "yaxis": "y"
        },
        {
         "hovertemplate": "Impact=tonnes_fish_landed<br>Year=%{x}<br>Impact Value=%{y}<extra></extra>",
         "legendgroup": "tonnes_fish_landed",
         "line": {
          "color": "#FF97FF",
          "dash": "solid"
         },
         "marker": {
          "symbol": "circle"
         },
         "mode": "lines",
         "name": "tonnes_fish_landed",
         "orientation": "v",
         "showlegend": true,
         "type": "scatter",
         "x": [
          2010,
          2011,
          2012,
          2013,
          2014,
          2015,
          2016,
          2017,
          2018,
          2019,
          2020,
          2021,
          2022,
          2023,
          2024
         ],
         "xaxis": "x",
         "y": [
          94.4471338490848,
          99.1976839588937,
          96.121594976431,
          97.3843272410674,
          97.9478743286576,
          99.21094608034024,
          97.04381167776006,
          101.1725659363897,
          104.27769775660232,
          100,
          97.34492677098,
          99.32130234553075,
          98.75034027752612,
          null,
          null
         ],
         "yaxis": "y"
        },
        {
         "hovertemplate": "Impact=passenger_vehicle_emissions_Gt_co2<br>Year=%{x}<br>Impact Value=%{y}<extra></extra>",
         "legendgroup": "passenger_vehicle_emissions_Gt_co2",
         "line": {
          "color": "#FECB52",
          "dash": "solid"
         },
         "marker": {
          "symbol": "circle"
         },
         "mode": "lines",
         "name": "passenger_vehicle_emissions_Gt_co2",
         "orientation": "v",
         "showlegend": true,
         "type": "scatter",
         "x": [
          2010,
          2011,
          2012,
          2013,
          2014,
          2015,
          2016,
          2017,
          2018,
          2019,
          2020,
          2021,
          2022,
          2023,
          2024
         ],
         "xaxis": "x",
         "y": [
          86.98060941828255,
          86.70360110803324,
          87.81163434903047,
          90.58171745152356,
          91.68975069252078,
          94.73684210526316,
          96.95290858725762,
          98.33795013850416,
          99.4459833795014,
          100,
          88.6426592797784,
          96.398891966759,
          97.78393351800554,
          null,
          null
         ],
         "yaxis": "y"
        },
        {
         "hovertemplate": "Impact=exports_timber_products_USD<br>Year=%{x}<br>Impact Value=%{y}<extra></extra>",
         "legendgroup": "exports_timber_products_USD",
         "line": {
          "color": "#636efa",
          "dash": "solid"
         },
         "marker": {
          "symbol": "circle"
         },
         "mode": "lines",
         "name": "exports_timber_products_USD",
         "orientation": "v",
         "showlegend": true,
         "type": "scatter",
         "x": [
          2010,
          2011,
          2012,
          2013,
          2014,
          2015,
          2016,
          2017,
          2018,
          2019,
          2020,
          2021,
          2022,
          2023,
          2024
         ],
         "xaxis": "x",
         "y": [
          null,
          null,
          87.4396481442558,
          95.31479064120757,
          101.9816828389884,
          90.44717059312497,
          92.09819007392376,
          95.23551505979144,
          106.8509556445601,
          100,
          98.0895720184898,
          133.8481407255701,
          130.9069434985043,
          null,
          null
         ],
         "yaxis": "y"
        },
        {
         "hovertemplate": "Impact=USA_WFH_share<br>Year=%{x}<br>Impact Value=%{y}<extra></extra>",
         "legendgroup": "USA_WFH_share",
         "line": {
          "color": "#EF553B",
          "dash": "solid"
         },
         "marker": {
          "symbol": "circle"
         },
         "mode": "lines",
         "name": "USA_WFH_share",
         "orientation": "v",
         "showlegend": true,
         "type": "scatter",
         "x": [
          2010,
          2011,
          2012,
          2013,
          2014,
          2015,
          2016,
          2017,
          2018,
          2019,
          2020,
          2021,
          2022,
          2023,
          2024
         ],
         "xaxis": "x",
         "y": [
          74.88410344698619,
          63.82170854422783,
          80.2027480501572,
          75.41961062278234,
          89.6842484355957,
          94.97351264506943,
          82.83517665803389,
          96.94349904288715,
          73.65568698620561,
          100,
          647.8627004078045,
          469.5771945566293,
          424.5639891574547,
          402.4972379074324,
          386.81093599381506
         ],
         "yaxis": "y"
        },
        {
         "hovertemplate": "Impact=total_municipal_waste_tonnes<br>Year=%{x}<br>Impact Value=%{y}<extra></extra>",
         "legendgroup": "total_municipal_waste_tonnes",
         "line": {
          "color": "#00cc96",
          "dash": "solid"
         },
         "marker": {
          "symbol": "circle"
         },
         "mode": "lines",
         "name": "total_municipal_waste_tonnes",
         "orientation": "v",
         "showlegend": true,
         "type": "scatter",
         "x": [
          2010,
          2011,
          2012,
          2013,
          2014,
          2015,
          2016,
          2017,
          2018,
          2019,
          2020,
          2021,
          2022,
          2023,
          2024
         ],
         "xaxis": "x",
         "y": [
          91.7906943955847,
          92.1527508763957,
          91.61863201510096,
          91.69747682906964,
          92.3576652626997,
          93.42220713463436,
          95.67749733419662,
          96.0767860882706,
          99.60427021322322,
          100,
          101.08603255907543,
          101.99370610321829,
          100.23653444190602,
          null,
          null
         ],
         "yaxis": "y"
        },
        {
         "hovertemplate": "Impact=outdoor_rec_participation_rate<br>Year=%{x}<br>Impact Value=%{y}<extra></extra>",
         "legendgroup": "outdoor_rec_participation_rate",
         "line": {
          "color": "#ab63fa",
          "dash": "solid"
         },
         "marker": {
          "symbol": "circle"
         },
         "mode": "lines",
         "name": "outdoor_rec_participation_rate",
         "orientation": "v",
         "showlegend": true,
         "type": "scatter",
         "x": [
          2010,
          2011,
          2012,
          2013,
          2014,
          2015,
          2016,
          2017,
          2018,
          2019,
          2020,
          2021,
          2022,
          2023,
          2024
         ],
         "xaxis": "x",
         "y": [
          95.66074950690336,
          97.43589743589742,
          97.43589743589742,
          96.84418145956607,
          95.2662721893491,
          95.46351084812622,
          96.44970414201184,
          96.44970414201184,
          99.60552268244577,
          100,
          104.14201183431952,
          106.11439842209072,
          108.48126232741618,
          113.01775147928991,
          null
         ],
         "yaxis": "y"
        },
        {
         "hovertemplate": "Impact=millions_sales_garden_equipment<br>Year=%{x}<br>Impact Value=%{y}<extra></extra>",
         "legendgroup": "millions_sales_garden_equipment",
         "line": {
          "color": "#FFA15A",
          "dash": "solid"
         },
         "marker": {
          "symbol": "circle"
         },
         "mode": "lines",
         "name": "millions_sales_garden_equipment",
         "orientation": "v",
         "showlegend": true,
         "type": "scatter",
         "x": [
          2010,
          2011,
          2012,
          2013,
          2014,
          2015,
          2016,
          2017,
          2018,
          2019,
          2020,
          2021,
          2022,
          2023,
          2024
         ],
         "xaxis": "x",
         "y": [
          75.6429455042646,
          79.93358942639495,
          85.41571716908652,
          90.8305662260998,
          94.14458406580287,
          92.67096382142934,
          92.76862642967208,
          95.26227836013628,
          97.64090544089242,
          100,
          116.67860320767412,
          138.38357531957374,
          144.11528528333008,
          146.25952210430367,
          135.6880873320746
         ],
         "yaxis": "y"
        },
        {
         "hovertemplate": "Impact=paid_fishing_license_holders<br>Year=%{x}<br>Impact Value=%{y}<extra></extra>",
         "legendgroup": "paid_fishing_license_holders",
         "line": {
          "color": "#19d3f3",
          "dash": "solid"
         },
         "marker": {
          "symbol": "circle"
         },
         "mode": "lines",
         "name": "paid_fishing_license_holders",
         "orientation": "v",
         "showlegend": true,
         "type": "scatter",
         "x": [
          2010,
          2011,
          2012,
          2013,
          2014,
          2015,
          2016,
          2017,
          2018,
          2019,
          2020,
          2021,
          2022,
          2023,
          2024
         ],
         "xaxis": "x",
         "y": [
          95.7406425330156,
          95.76179672430736,
          98.88677290771626,
          94.24658604130924,
          94.18367314592602,
          95.98633870217468,
          97.92367886123344,
          99.14766785579324,
          100.36596784657348,
          100,
          98.76290640040916,
          98.61528231655964,
          102.03977594969771,
          108.73179797002048,
          104.5668165906323
         ],
         "yaxis": "y"
        },
        {
         "hovertemplate": "Impact=paid_hunting_license_holders<br>Year=%{x}<br>Impact Value=%{y}<extra></extra>",
         "legendgroup": "paid_hunting_license_holders",
         "line": {
          "color": "#FF6692",
          "dash": "solid"
         },
         "marker": {
          "symbol": "circle"
         },
         "mode": "lines",
         "name": "paid_hunting_license_holders",
         "orientation": "v",
         "showlegend": true,
         "type": "scatter",
         "x": [
          2010,
          2011,
          2012,
          2013,
          2014,
          2015,
          2016,
          2017,
          2018,
          2019,
          2020,
          2021,
          2022,
          2023,
          2024
         ],
         "xaxis": "x",
         "y": [
          92.94422866378436,
          96.33116410458538,
          96.24102492085964,
          94.12331377422836,
          93.90307361621846,
          95.49076353202273,
          99.1559197519384,
          99.62221569344288,
          100.4871645906628,
          100,
          97.51425054048453,
          97.79875635974336,
          98.97988073090964,
          102.5348718408265,
          102.42289905807384
         ],
         "yaxis": "y"
        }
       ],
       "layout": {
        "legend": {
         "title": {
          "text": "Impact"
         },
         "tracegroupgap": 0
        },
        "shapes": [
         {
          "line": {
           "color": "Black",
           "dash": "dash"
          },
          "type": "line",
          "x0": 2010,
          "x1": 2024,
          "xref": "x",
          "y0": 100,
          "y1": 100,
          "yref": "y"
         }
        ],
        "template": {
         "data": {
          "bar": [
           {
            "error_x": {
             "color": "#2a3f5f"
            },
            "error_y": {
             "color": "#2a3f5f"
            },
            "marker": {
             "line": {
              "color": "#E5ECF6",
              "width": 0.5
             },
             "pattern": {
              "fillmode": "overlay",
              "size": 10,
              "solidity": 0.2
             }
            },
            "type": "bar"
           }
          ],
          "barpolar": [
           {
            "marker": {
             "line": {
              "color": "#E5ECF6",
              "width": 0.5
             },
             "pattern": {
              "fillmode": "overlay",
              "size": 10,
              "solidity": 0.2
             }
            },
            "type": "barpolar"
           }
          ],
          "carpet": [
           {
            "aaxis": {
             "endlinecolor": "#2a3f5f",
             "gridcolor": "white",
             "linecolor": "white",
             "minorgridcolor": "white",
             "startlinecolor": "#2a3f5f"
            },
            "baxis": {
             "endlinecolor": "#2a3f5f",
             "gridcolor": "white",
             "linecolor": "white",
             "minorgridcolor": "white",
             "startlinecolor": "#2a3f5f"
            },
            "type": "carpet"
           }
          ],
          "choropleth": [
           {
            "colorbar": {
             "outlinewidth": 0,
             "ticks": ""
            },
            "type": "choropleth"
           }
          ],
          "contour": [
           {
            "colorbar": {
             "outlinewidth": 0,
             "ticks": ""
            },
            "colorscale": [
             [
              0,
              "#0d0887"
             ],
             [
              0.1111111111111111,
              "#46039f"
             ],
             [
              0.2222222222222222,
              "#7201a8"
             ],
             [
              0.3333333333333333,
              "#9c179e"
             ],
             [
              0.4444444444444444,
              "#bd3786"
             ],
             [
              0.5555555555555556,
              "#d8576b"
             ],
             [
              0.6666666666666666,
              "#ed7953"
             ],
             [
              0.7777777777777778,
              "#fb9f3a"
             ],
             [
              0.8888888888888888,
              "#fdca26"
             ],
             [
              1,
              "#f0f921"
             ]
            ],
            "type": "contour"
           }
          ],
          "contourcarpet": [
           {
            "colorbar": {
             "outlinewidth": 0,
             "ticks": ""
            },
            "type": "contourcarpet"
           }
          ],
          "heatmap": [
           {
            "colorbar": {
             "outlinewidth": 0,
             "ticks": ""
            },
            "colorscale": [
             [
              0,
              "#0d0887"
             ],
             [
              0.1111111111111111,
              "#46039f"
             ],
             [
              0.2222222222222222,
              "#7201a8"
             ],
             [
              0.3333333333333333,
              "#9c179e"
             ],
             [
              0.4444444444444444,
              "#bd3786"
             ],
             [
              0.5555555555555556,
              "#d8576b"
             ],
             [
              0.6666666666666666,
              "#ed7953"
             ],
             [
              0.7777777777777778,
              "#fb9f3a"
             ],
             [
              0.8888888888888888,
              "#fdca26"
             ],
             [
              1,
              "#f0f921"
             ]
            ],
            "type": "heatmap"
           }
          ],
          "heatmapgl": [
           {
            "colorbar": {
             "outlinewidth": 0,
             "ticks": ""
            },
            "colorscale": [
             [
              0,
              "#0d0887"
             ],
             [
              0.1111111111111111,
              "#46039f"
             ],
             [
              0.2222222222222222,
              "#7201a8"
             ],
             [
              0.3333333333333333,
              "#9c179e"
             ],
             [
              0.4444444444444444,
              "#bd3786"
             ],
             [
              0.5555555555555556,
              "#d8576b"
             ],
             [
              0.6666666666666666,
              "#ed7953"
             ],
             [
              0.7777777777777778,
              "#fb9f3a"
             ],
             [
              0.8888888888888888,
              "#fdca26"
             ],
             [
              1,
              "#f0f921"
             ]
            ],
            "type": "heatmapgl"
           }
          ],
          "histogram": [
           {
            "marker": {
             "pattern": {
              "fillmode": "overlay",
              "size": 10,
              "solidity": 0.2
             }
            },
            "type": "histogram"
           }
          ],
          "histogram2d": [
           {
            "colorbar": {
             "outlinewidth": 0,
             "ticks": ""
            },
            "colorscale": [
             [
              0,
              "#0d0887"
             ],
             [
              0.1111111111111111,
              "#46039f"
             ],
             [
              0.2222222222222222,
              "#7201a8"
             ],
             [
              0.3333333333333333,
              "#9c179e"
             ],
             [
              0.4444444444444444,
              "#bd3786"
             ],
             [
              0.5555555555555556,
              "#d8576b"
             ],
             [
              0.6666666666666666,
              "#ed7953"
             ],
             [
              0.7777777777777778,
              "#fb9f3a"
             ],
             [
              0.8888888888888888,
              "#fdca26"
             ],
             [
              1,
              "#f0f921"
             ]
            ],
            "type": "histogram2d"
           }
          ],
          "histogram2dcontour": [
           {
            "colorbar": {
             "outlinewidth": 0,
             "ticks": ""
            },
            "colorscale": [
             [
              0,
              "#0d0887"
             ],
             [
              0.1111111111111111,
              "#46039f"
             ],
             [
              0.2222222222222222,
              "#7201a8"
             ],
             [
              0.3333333333333333,
              "#9c179e"
             ],
             [
              0.4444444444444444,
              "#bd3786"
             ],
             [
              0.5555555555555556,
              "#d8576b"
             ],
             [
              0.6666666666666666,
              "#ed7953"
             ],
             [
              0.7777777777777778,
              "#fb9f3a"
             ],
             [
              0.8888888888888888,
              "#fdca26"
             ],
             [
              1,
              "#f0f921"
             ]
            ],
            "type": "histogram2dcontour"
           }
          ],
          "mesh3d": [
           {
            "colorbar": {
             "outlinewidth": 0,
             "ticks": ""
            },
            "type": "mesh3d"
           }
          ],
          "parcoords": [
           {
            "line": {
             "colorbar": {
              "outlinewidth": 0,
              "ticks": ""
             }
            },
            "type": "parcoords"
           }
          ],
          "pie": [
           {
            "automargin": true,
            "type": "pie"
           }
          ],
          "scatter": [
           {
            "fillpattern": {
             "fillmode": "overlay",
             "size": 10,
             "solidity": 0.2
            },
            "type": "scatter"
           }
          ],
          "scatter3d": [
           {
            "line": {
             "colorbar": {
              "outlinewidth": 0,
              "ticks": ""
             }
            },
            "marker": {
             "colorbar": {
              "outlinewidth": 0,
              "ticks": ""
             }
            },
            "type": "scatter3d"
           }
          ],
          "scattercarpet": [
           {
            "marker": {
             "colorbar": {
              "outlinewidth": 0,
              "ticks": ""
             }
            },
            "type": "scattercarpet"
           }
          ],
          "scattergeo": [
           {
            "marker": {
             "colorbar": {
              "outlinewidth": 0,
              "ticks": ""
             }
            },
            "type": "scattergeo"
           }
          ],
          "scattergl": [
           {
            "marker": {
             "colorbar": {
              "outlinewidth": 0,
              "ticks": ""
             }
            },
            "type": "scattergl"
           }
          ],
          "scattermapbox": [
           {
            "marker": {
             "colorbar": {
              "outlinewidth": 0,
              "ticks": ""
             }
            },
            "type": "scattermapbox"
           }
          ],
          "scatterpolar": [
           {
            "marker": {
             "colorbar": {
              "outlinewidth": 0,
              "ticks": ""
             }
            },
            "type": "scatterpolar"
           }
          ],
          "scatterpolargl": [
           {
            "marker": {
             "colorbar": {
              "outlinewidth": 0,
              "ticks": ""
             }
            },
            "type": "scatterpolargl"
           }
          ],
          "scatterternary": [
           {
            "marker": {
             "colorbar": {
              "outlinewidth": 0,
              "ticks": ""
             }
            },
            "type": "scatterternary"
           }
          ],
          "surface": [
           {
            "colorbar": {
             "outlinewidth": 0,
             "ticks": ""
            },
            "colorscale": [
             [
              0,
              "#0d0887"
             ],
             [
              0.1111111111111111,
              "#46039f"
             ],
             [
              0.2222222222222222,
              "#7201a8"
             ],
             [
              0.3333333333333333,
              "#9c179e"
             ],
             [
              0.4444444444444444,
              "#bd3786"
             ],
             [
              0.5555555555555556,
              "#d8576b"
             ],
             [
              0.6666666666666666,
              "#ed7953"
             ],
             [
              0.7777777777777778,
              "#fb9f3a"
             ],
             [
              0.8888888888888888,
              "#fdca26"
             ],
             [
              1,
              "#f0f921"
             ]
            ],
            "type": "surface"
           }
          ],
          "table": [
           {
            "cells": {
             "fill": {
              "color": "#EBF0F8"
             },
             "line": {
              "color": "white"
             }
            },
            "header": {
             "fill": {
              "color": "#C8D4E3"
             },
             "line": {
              "color": "white"
             }
            },
            "type": "table"
           }
          ]
         },
         "layout": {
          "annotationdefaults": {
           "arrowcolor": "#2a3f5f",
           "arrowhead": 0,
           "arrowwidth": 1
          },
          "autotypenumbers": "strict",
          "coloraxis": {
           "colorbar": {
            "outlinewidth": 0,
            "ticks": ""
           }
          },
          "colorscale": {
           "diverging": [
            [
             0,
             "#8e0152"
            ],
            [
             0.1,
             "#c51b7d"
            ],
            [
             0.2,
             "#de77ae"
            ],
            [
             0.3,
             "#f1b6da"
            ],
            [
             0.4,
             "#fde0ef"
            ],
            [
             0.5,
             "#f7f7f7"
            ],
            [
             0.6,
             "#e6f5d0"
            ],
            [
             0.7,
             "#b8e186"
            ],
            [
             0.8,
             "#7fbc41"
            ],
            [
             0.9,
             "#4d9221"
            ],
            [
             1,
             "#276419"
            ]
           ],
           "sequential": [
            [
             0,
             "#0d0887"
            ],
            [
             0.1111111111111111,
             "#46039f"
            ],
            [
             0.2222222222222222,
             "#7201a8"
            ],
            [
             0.3333333333333333,
             "#9c179e"
            ],
            [
             0.4444444444444444,
             "#bd3786"
            ],
            [
             0.5555555555555556,
             "#d8576b"
            ],
            [
             0.6666666666666666,
             "#ed7953"
            ],
            [
             0.7777777777777778,
             "#fb9f3a"
            ],
            [
             0.8888888888888888,
             "#fdca26"
            ],
            [
             1,
             "#f0f921"
            ]
           ],
           "sequentialminus": [
            [
             0,
             "#0d0887"
            ],
            [
             0.1111111111111111,
             "#46039f"
            ],
            [
             0.2222222222222222,
             "#7201a8"
            ],
            [
             0.3333333333333333,
             "#9c179e"
            ],
            [
             0.4444444444444444,
             "#bd3786"
            ],
            [
             0.5555555555555556,
             "#d8576b"
            ],
            [
             0.6666666666666666,
             "#ed7953"
            ],
            [
             0.7777777777777778,
             "#fb9f3a"
            ],
            [
             0.8888888888888888,
             "#fdca26"
            ],
            [
             1,
             "#f0f921"
            ]
           ]
          },
          "colorway": [
           "#636efa",
           "#EF553B",
           "#00cc96",
           "#ab63fa",
           "#FFA15A",
           "#19d3f3",
           "#FF6692",
           "#B6E880",
           "#FF97FF",
           "#FECB52"
          ],
          "font": {
           "color": "#2a3f5f"
          },
          "geo": {
           "bgcolor": "white",
           "lakecolor": "white",
           "landcolor": "#E5ECF6",
           "showlakes": true,
           "showland": true,
           "subunitcolor": "white"
          },
          "hoverlabel": {
           "align": "left"
          },
          "hovermode": "closest",
          "mapbox": {
           "style": "light"
          },
          "paper_bgcolor": "white",
          "plot_bgcolor": "#E5ECF6",
          "polar": {
           "angularaxis": {
            "gridcolor": "white",
            "linecolor": "white",
            "ticks": ""
           },
           "bgcolor": "#E5ECF6",
           "radialaxis": {
            "gridcolor": "white",
            "linecolor": "white",
            "ticks": ""
           }
          },
          "scene": {
           "xaxis": {
            "backgroundcolor": "#E5ECF6",
            "gridcolor": "white",
            "gridwidth": 2,
            "linecolor": "white",
            "showbackground": true,
            "ticks": "",
            "zerolinecolor": "white"
           },
           "yaxis": {
            "backgroundcolor": "#E5ECF6",
            "gridcolor": "white",
            "gridwidth": 2,
            "linecolor": "white",
            "showbackground": true,
            "ticks": "",
            "zerolinecolor": "white"
           },
           "zaxis": {
            "backgroundcolor": "#E5ECF6",
            "gridcolor": "white",
            "gridwidth": 2,
            "linecolor": "white",
            "showbackground": true,
            "ticks": "",
            "zerolinecolor": "white"
           }
          },
          "shapedefaults": {
           "line": {
            "color": "#2a3f5f"
           }
          },
          "ternary": {
           "aaxis": {
            "gridcolor": "white",
            "linecolor": "white",
            "ticks": ""
           },
           "baxis": {
            "gridcolor": "white",
            "linecolor": "white",
            "ticks": ""
           },
           "bgcolor": "#E5ECF6",
           "caxis": {
            "gridcolor": "white",
            "linecolor": "white",
            "ticks": ""
           }
          },
          "title": {
           "x": 0.05
          },
          "xaxis": {
           "automargin": true,
           "gridcolor": "white",
           "linecolor": "white",
           "ticks": "",
           "title": {
            "standoff": 15
           },
           "zerolinecolor": "white",
           "zerolinewidth": 2
          },
          "yaxis": {
           "automargin": true,
           "gridcolor": "white",
           "linecolor": "white",
           "ticks": "",
           "title": {
            "standoff": 15
           },
           "zerolinecolor": "white",
           "zerolinewidth": 2
          }
         }
        },
        "title": {
         "text": "Dynamic Line Chart of Impacts Over Years"
        },
        "xaxis": {
         "anchor": "y",
         "domain": [
          0,
          1
         ],
         "title": {
          "text": "Year"
         }
        },
        "yaxis": {
         "anchor": "x",
         "domain": [
          0,
          1
         ],
         "title": {
          "text": "Impact Value"
         }
        }
       }
      }
     },
     "metadata": {},
     "output_type": "display_data"
    }
   ],
   "source": [
    "# Melt the DataFrame to long format for easier plotting\n",
    "df_long = normalized_impact_filtered.melt(id_vars='Year', var_name='Impact', value_name='Value')\n",
    "\n",
    "# Create a dynamic line chart with Plotly Express\n",
    "fig = px.line(\n",
    "    df_long,\n",
    "    x='Year',\n",
    "    y='Value',\n",
    "    color='Impact',\n",
    "    title='Dynamic Line Chart of Impacts Over Years',\n",
    "    labels={'Value': 'Impact Value', 'Year': 'Year'},\n",
    ")\n",
    "\n",
    "fig.add_shape(\n",
    "    type='line',\n",
    "    x0=df_long['Year'].min(),  # Start of the x-axis\n",
    "    x1=df_long['Year'].max(),  # End of the x-axis\n",
    "    y0=100,  # Horizontal line position\n",
    "    y1=100,  # Horizontal line position\n",
    "    line=dict(color='Black', dash='dash'),  # Line style\n",
    "    xref='x',\n",
    "    yref='y',\n",
    ")\n",
    "\n",
    "# Show the chart\n",
    "fig.show()"
   ]
  }
 ],
 "metadata": {
  "kernelspec": {
   "display_name": "Python 3",
   "language": "python",
   "name": "python3"
  },
  "language_info": {
   "codemirror_mode": {
    "name": "ipython",
    "version": 3
   },
   "file_extension": ".py",
   "mimetype": "text/x-python",
   "name": "python",
   "nbconvert_exporter": "python",
   "pygments_lexer": "ipython3",
   "version": "3.9.21"
  }
 },
 "nbformat": 4,
 "nbformat_minor": 2
}
